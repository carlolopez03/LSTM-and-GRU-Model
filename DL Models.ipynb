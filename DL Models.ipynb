{
 "cells": [
  {
   "cell_type": "code",
   "execution_count": 1,
   "id": "db075fd7-28c0-4542-a736-89dd1fa67a71",
   "metadata": {},
   "outputs": [],
   "source": [
    "#Imports\n",
    "import pandas as pd\n",
    "import matplotlib.pyplot as plt\n",
    "import seaborn as sns\n",
    "import numpy as np\n",
    "import tensorflow as tf\n",
    "from tensorflow.keras.models import Sequential\n",
    "from tensorflow.keras import layers, optimizers, regularizers\n",
    "from sklearn.model_selection import train_test_split\n",
    "from sklearn.pipeline import make_pipeline, Pipeline\n",
    "from sklearn.model_selection import GridSearchCV\n",
    "from imblearn.under_sampling import RandomUnderSampler\n",
    "import sys, os\n",
    "sys.path.append( os.path.abspath('../'))\n",
    "\n",
    "%load_ext autoreload \n",
    "%autoreload 2\n",
    "\n",
    "import custom_functions as fn"
   ]
  },
  {
   "cell_type": "code",
   "execution_count": 2,
   "id": "bf25deef-c788-4018-9bb0-f7c6ae847f79",
   "metadata": {},
   "outputs": [],
   "source": [
    "def classification_metrics(y_true, y_pred, label='',\n",
    "                           output_dict=False, figsize=(8,4),\n",
    "                           normalize='true', cmap='Blues',\n",
    "                           colorbar=False,values_format=\".2f\"):\n",
    "    \"\"\"Modified version of classification metrics function from Intro to Machine Learning.\n",
    "    Updates:\n",
    "    - Reversed raw counts confusion matrix cmap  (so darker==more).\n",
    "    - Added arg for normalized confusion matrix values_format\n",
    "    \"\"\"\n",
    "    # Get the classification report\n",
    "    report = classification_report(y_true, y_pred)\n",
    "    \n",
    "    ## Print header and report\n",
    "    header = \"-\"*70\n",
    "    print(header, f\" Classification Metrics: {label}\", header, sep='\\n')\n",
    "    print(report)\n",
    "    \n",
    "    ## CONFUSION MATRICES SUBPLOTS\n",
    "    fig, axes = plt.subplots(ncols=2, figsize=figsize)\n",
    "    \n",
    "    # Create a confusion matrix  of raw counts (left subplot)\n",
    "    ConfusionMatrixDisplay.from_predictions(y_true, y_pred,\n",
    "                                            normalize=None, \n",
    "                                            cmap='gist_gray_r',# Updated cmap\n",
    "                                            values_format=\"d\", \n",
    "                                            colorbar=colorbar,\n",
    "                                            ax = axes[0]);\n",
    "    axes[0].set_title(\"Raw Counts\")\n",
    "    \n",
    "    # Create a confusion matrix with the data with normalize argument \n",
    "    ConfusionMatrixDisplay.from_predictions(y_true, y_pred,\n",
    "                                            normalize=normalize,\n",
    "                                            cmap=cmap, \n",
    "                                            values_format=values_format, #New arg\n",
    "                                            colorbar=colorbar,\n",
    "                                            ax = axes[1]);\n",
    "    axes[1].set_title(\"Normalized Confusion Matrix\")\n",
    "    \n",
    "    # Adjust layout and show figure\n",
    "    fig.tight_layout()\n",
    "    plt.show()\n",
    "    \n",
    "    # Return dictionary of classification_report\n",
    "    if output_dict==True:\n",
    "        report_dict = classification_report(y_true, y_pred, output_dict=True)\n",
    "        return report_dict\n",
    "\n",
    "def evaluate_classification_network(model, \n",
    "                                    X_train=None, y_train=None, \n",
    "                                    X_test=None, y_test=None,\n",
    "                                    history=None, history_figsize=(6,6),\n",
    "                                    figsize=(6,4), normalize='true',\n",
    "                                    output_dict = False,\n",
    "                                    cmap_train='Blues',\n",
    "                                    cmap_test=\"Reds\",\n",
    "                                    values_format=\".2f\", \n",
    "                                    colorbar=False):\n",
    "    \"\"\"Evaluates a neural network classification task using either\n",
    "    separate X and y arrays or a tensorflow Dataset\n",
    "    \n",
    "    Data Args:\n",
    "        X_train (array, or Dataset)\n",
    "        y_train (array, or None if using a Dataset\n",
    "        X_test (array, or Dataset)\n",
    "        y_test (array, or None if using a Dataset)\n",
    "        history (history object)\n",
    "        \"\"\"\n",
    "    # Plot history, if provided\n",
    "    if history is not None:\n",
    "        plot_history(history, figsize=history_figsize)\n",
    "    ## Adding a Print Header\n",
    "    print(\"\\n\"+'='*80)\n",
    "    print('- Evaluating Network...')\n",
    "    print('='*80)\n",
    "    ## TRAINING DATA EVALUATION\n",
    "    # check if X_train was provided\n",
    "    if X_train is not None:\n",
    "        ## Check if X_train is a dataset\n",
    "        if hasattr(X_train,'map'):\n",
    "            # If it IS a Datset:\n",
    "            # extract y_train and y_train_pred with helper function\n",
    "            y_train, y_train_pred = get_true_pred_labels(model, X_train)\n",
    "        else:\n",
    "            # Get predictions for training data\n",
    "            y_train_pred = model.predict(X_train)\n",
    "        ## Pass both y-vars through helper compatibility function\n",
    "        y_train = convert_y_to_sklearn_classes(y_train)\n",
    "        y_train_pred = convert_y_to_sklearn_classes(y_train_pred)\n",
    "        \n",
    "        # Call the helper function to obtain regression metrics for training data\n",
    "        results_train = classification_metrics(y_train, y_train_pred, \n",
    "                                         output_dict=True, figsize=figsize,\n",
    "                                             colorbar=colorbar, cmap=cmap_train,\n",
    "                                               values_format=values_format,\n",
    "                                         label='Training Data')\n",
    "        \n",
    "        ## Run model.evaluate         \n",
    "        print(\"\\n- Evaluating Training Data:\")\n",
    "        print(model.evaluate(X_train, return_dict=True))\n",
    "    \n",
    "    # If no X_train, then save empty list for results_train\n",
    "    else:\n",
    "        results_train = []\n",
    "    ## TEST DATA EVALUATION\n",
    "    # check if X_test was provided\n",
    "    if X_test is not None:\n",
    "        ## Check if X_train is a dataset\n",
    "        if hasattr(X_test,'map'):\n",
    "            # If it IS a Datset:\n",
    "            # extract y_train and y_train_pred with helper function\n",
    "            y_test, y_test_pred = get_true_pred_labels(model, X_test)\n",
    "        else:\n",
    "            # Get predictions for training data\n",
    "            y_test_pred = model.predict(X_test)\n",
    "        ## Pass both y-vars through helper compatibility function\n",
    "        y_test = convert_y_to_sklearn_classes(y_test)\n",
    "        y_test_pred = convert_y_to_sklearn_classes(y_test_pred)\n",
    "        \n",
    "        # Call the helper function to obtain regression metrics for training data\n",
    "        results_test = classification_metrics(y_test, y_test_pred, \n",
    "                                         output_dict=True, figsize=figsize,\n",
    "                                             colorbar=colorbar, cmap=cmap_test,\n",
    "                                              values_format=values_format,\n",
    "                                         label='Test Data')\n",
    "        \n",
    "        ## Run model.evaluate         \n",
    "        print(\"\\n- Evaluating Test Data:\")\n",
    "        print(model.evaluate(X_test, return_dict=True))\n",
    "      \n",
    "    # If no X_test, then save empty list for results_test\n",
    "    else:\n",
    "        results_test = []\n",
    "      \n",
    "    # Store results in a dictionary\n",
    "    results_dict = {'train':results_train,\n",
    "                    'test': results_test}\n",
    "    if output_dict == True:\n",
    "        return results_dict\n",
    "\n",
    "def plot_history(history,figsize=(6,8)):\n",
    "    # Get a unique list of metrics \n",
    "    all_metrics = np.unique([k.replace('val_','') for k in history.history.keys()])\n",
    "    # Plot each metric\n",
    "    n_plots = len(all_metrics)\n",
    "    fig, axes = plt.subplots(nrows=n_plots, figsize=figsize)\n",
    "    axes = axes.flatten()\n",
    "    # Loop through metric names add get an index for the axes\n",
    "    for i, metric in enumerate(all_metrics):\n",
    "        # Get the epochs and metric values\n",
    "        epochs = history.epoch\n",
    "        score = history.history[metric]\n",
    "        # Plot the training results\n",
    "        axes[i].plot(epochs, score, label=metric, marker='.')\n",
    "        # Plot val results (if they exist)\n",
    "        try:\n",
    "            val_score = history.history[f\"val_{metric}\"]\n",
    "            axes[i].plot(epochs, val_score, label=f\"val_{metric}\",marker='.')\n",
    "        except:\n",
    "            pass\n",
    "        finally:\n",
    "            axes[i].legend()\n",
    "            axes[i].set(title=metric, xlabel=\"Epoch\",ylabel=metric)\n",
    "    # Adjust subplots and show\n",
    "    fig.tight_layout()\n",
    "    plt.show()\n",
    "\n",
    "def convert_y_to_sklearn_classes(y, verbose=False):\n",
    "    # If already one-dimension\n",
    "    if np.ndim(y)==1:\n",
    "        if verbose:\n",
    "            print(\"- y is 1D, using it as-is.\")\n",
    "        return y\n",
    "        \n",
    "    # If 2 dimensions with more than 1 column:\n",
    "    elif y.shape[1]>1:\n",
    "        if verbose:\n",
    "            print(\"- y is 2D with >1 column. Using argmax for metrics.\")   \n",
    "        return np.argmax(y, axis=1)\n",
    "    \n",
    "    else:\n",
    "        if verbose:\n",
    "            print(\"y is 2D with 1 column. Using round for metrics.\")\n",
    "        return np.round(y).flatten().astype(int)\n",
    "\n",
    "def get_true_pred_labels(model,ds):\n",
    "    \"\"\"Gets the labels and predicted probabilities from a Tensorflow model and Dataset object.\n",
    "    Adapted from source: https://stackoverflow.com/questions/66386561/keras-classification-report-accuracy-is-different-between-model-predict-accurac\n",
    "    \"\"\"\n",
    "    y_true = []\n",
    "    y_pred_probs = []\n",
    "    \n",
    "    # Loop through the dataset as a numpy iterator\n",
    "    for images, labels in ds.as_numpy_iterator():\n",
    "        \n",
    "        # Get prediction with batch_size=1\n",
    "        y_probs = model.predict(images, batch_size=1, verbose=0)\n",
    "        # Combine previous labels/preds with new labels/preds\n",
    "        y_true.extend(labels)\n",
    "        y_pred_probs.extend(y_probs)\n",
    "    ## Convert the lists to arrays\n",
    "    y_true = np.array(y_true)\n",
    "    y_pred_probs = np.array(y_pred_probs)\n",
    "    \n",
    "    return y_true, y_pred_probs\n",
    "\n"
   ]
  },
  {
   "cell_type": "code",
   "execution_count": 3,
   "id": "ad92371c-7934-49fc-a95c-bd20b9b43556",
   "metadata": {},
   "outputs": [
    {
     "data": {
      "text/html": [
       "<div>\n",
       "<style scoped>\n",
       "    .dataframe tbody tr th:only-of-type {\n",
       "        vertical-align: middle;\n",
       "    }\n",
       "\n",
       "    .dataframe tbody tr th {\n",
       "        vertical-align: top;\n",
       "    }\n",
       "\n",
       "    .dataframe thead th {\n",
       "        text-align: right;\n",
       "    }\n",
       "</style>\n",
       "<table border=\"1\" class=\"dataframe\">\n",
       "  <thead>\n",
       "    <tr style=\"text-align: right;\">\n",
       "      <th></th>\n",
       "      <th>text</th>\n",
       "      <th>author</th>\n",
       "    </tr>\n",
       "    <tr>\n",
       "      <th>id</th>\n",
       "      <th></th>\n",
       "      <th></th>\n",
       "    </tr>\n",
       "  </thead>\n",
       "  <tbody>\n",
       "    <tr>\n",
       "      <th>id26305</th>\n",
       "      <td>This process, however, afforded me no means of...</td>\n",
       "      <td>EAP</td>\n",
       "    </tr>\n",
       "    <tr>\n",
       "      <th>id17569</th>\n",
       "      <td>It never once occurred to me that the fumbling...</td>\n",
       "      <td>HPL</td>\n",
       "    </tr>\n",
       "    <tr>\n",
       "      <th>id11008</th>\n",
       "      <td>In his left hand was a gold snuff box, from wh...</td>\n",
       "      <td>EAP</td>\n",
       "    </tr>\n",
       "    <tr>\n",
       "      <th>id27763</th>\n",
       "      <td>How lovely is spring As we looked from Windsor...</td>\n",
       "      <td>MWS</td>\n",
       "    </tr>\n",
       "    <tr>\n",
       "      <th>id12958</th>\n",
       "      <td>Finding nothing else, not even gold, the Super...</td>\n",
       "      <td>HPL</td>\n",
       "    </tr>\n",
       "  </tbody>\n",
       "</table>\n",
       "</div>"
      ],
      "text/plain": [
       "                                                      text author\n",
       "id                                                               \n",
       "id26305  This process, however, afforded me no means of...    EAP\n",
       "id17569  It never once occurred to me that the fumbling...    HPL\n",
       "id11008  In his left hand was a gold snuff box, from wh...    EAP\n",
       "id27763  How lovely is spring As we looked from Windsor...    MWS\n",
       "id12958  Finding nothing else, not even gold, the Super...    HPL"
      ]
     },
     "execution_count": 3,
     "metadata": {},
     "output_type": "execute_result"
    }
   ],
   "source": [
    "# Loading Data\n",
    "df = pd.read_csv(\"Data/spooky.csv\", index_col = 'id')\n",
    "df.head()"
   ]
  },
  {
   "cell_type": "code",
   "execution_count": 4,
   "id": "d9498dff-7eac-4449-a28b-75f56a680a20",
   "metadata": {},
   "outputs": [
    {
     "data": {
      "text/html": [
       "<div>\n",
       "<style scoped>\n",
       "    .dataframe tbody tr th:only-of-type {\n",
       "        vertical-align: middle;\n",
       "    }\n",
       "\n",
       "    .dataframe tbody tr th {\n",
       "        vertical-align: top;\n",
       "    }\n",
       "\n",
       "    .dataframe thead th {\n",
       "        text-align: right;\n",
       "    }\n",
       "</style>\n",
       "<table border=\"1\" class=\"dataframe\">\n",
       "  <thead>\n",
       "    <tr style=\"text-align: right;\">\n",
       "      <th></th>\n",
       "      <th>text</th>\n",
       "      <th>author</th>\n",
       "      <th>length</th>\n",
       "    </tr>\n",
       "    <tr>\n",
       "      <th>id</th>\n",
       "      <th></th>\n",
       "      <th></th>\n",
       "      <th></th>\n",
       "    </tr>\n",
       "  </thead>\n",
       "  <tbody>\n",
       "    <tr>\n",
       "      <th>id26305</th>\n",
       "      <td>This process, however, afforded me no means of...</td>\n",
       "      <td>EAP</td>\n",
       "      <td>41</td>\n",
       "    </tr>\n",
       "    <tr>\n",
       "      <th>id17569</th>\n",
       "      <td>It never once occurred to me that the fumbling...</td>\n",
       "      <td>HPL</td>\n",
       "      <td>14</td>\n",
       "    </tr>\n",
       "    <tr>\n",
       "      <th>id11008</th>\n",
       "      <td>In his left hand was a gold snuff box, from wh...</td>\n",
       "      <td>EAP</td>\n",
       "      <td>36</td>\n",
       "    </tr>\n",
       "    <tr>\n",
       "      <th>id27763</th>\n",
       "      <td>How lovely is spring As we looked from Windsor...</td>\n",
       "      <td>MWS</td>\n",
       "      <td>34</td>\n",
       "    </tr>\n",
       "    <tr>\n",
       "      <th>id12958</th>\n",
       "      <td>Finding nothing else, not even gold, the Super...</td>\n",
       "      <td>HPL</td>\n",
       "      <td>27</td>\n",
       "    </tr>\n",
       "  </tbody>\n",
       "</table>\n",
       "</div>"
      ],
      "text/plain": [
       "                                                      text author  length\n",
       "id                                                                       \n",
       "id26305  This process, however, afforded me no means of...    EAP      41\n",
       "id17569  It never once occurred to me that the fumbling...    HPL      14\n",
       "id11008  In his left hand was a gold snuff box, from wh...    EAP      36\n",
       "id27763  How lovely is spring As we looked from Windsor...    MWS      34\n",
       "id12958  Finding nothing else, not even gold, the Super...    HPL      27"
      ]
     },
     "execution_count": 4,
     "metadata": {},
     "output_type": "execute_result"
    }
   ],
   "source": [
    "#Making length column for text\n",
    "df['length'] =df['text'].map( lambda x: len(x.split(\" \")))\n",
    "df.head()"
   ]
  },
  {
   "cell_type": "code",
   "execution_count": 5,
   "id": "c428f3ae-58c0-44dd-aefe-e40020c77bde",
   "metadata": {},
   "outputs": [
    {
     "data": {
      "text/plain": [
       "count    19579.000000\n",
       "mean        26.730477\n",
       "std         19.048353\n",
       "min          2.000000\n",
       "25%         15.000000\n",
       "50%         23.000000\n",
       "75%         34.000000\n",
       "max        861.000000\n",
       "Name: length, dtype: float64"
      ]
     },
     "execution_count": 5,
     "metadata": {},
     "output_type": "execute_result"
    }
   ],
   "source": [
    "df['length'].describe()"
   ]
  },
  {
   "cell_type": "markdown",
   "id": "46834f51-20d4-4431-a858-011f79ca2211",
   "metadata": {},
   "source": [
    "- The range of sequence length is from 2 to 861.\n",
    "- The average sequence length is around 26 words"
   ]
  },
  {
   "cell_type": "code",
   "execution_count": 6,
   "id": "843644ae-6429-45f0-b5d1-74599be85309",
   "metadata": {},
   "outputs": [
    {
     "data": {
      "text/plain": [
       "EAP    0.403494\n",
       "MWS    0.308698\n",
       "HPL    0.287808\n",
       "Name: author, dtype: float64"
      ]
     },
     "execution_count": 6,
     "metadata": {},
     "output_type": "execute_result"
    }
   ],
   "source": [
    "df['author'].value_counts(normalize = True)"
   ]
  },
  {
   "cell_type": "code",
   "execution_count": 7,
   "id": "349e4fc4-bae3-4c13-9bd7-3f8b3ff1c126",
   "metadata": {},
   "outputs": [
    {
     "data": {
      "text/plain": [
       "EAP    5635\n",
       "HPL    5635\n",
       "MWS    5635\n",
       "Name: author, dtype: int64"
      ]
     },
     "execution_count": 7,
     "metadata": {},
     "output_type": "execute_result"
    }
   ],
   "source": [
    "#RUS to match minority group\n",
    "sampler = RandomUnderSampler(random_state=42)\n",
    "df,  _ = sampler.fit_resample(df, df['author'])\n",
    "df['author'].value_counts()"
   ]
  },
  {
   "cell_type": "code",
   "execution_count": 8,
   "id": "d97f370b-9084-4621-a49e-cd5a12ee695a",
   "metadata": {},
   "outputs": [
    {
     "data": {
      "text/plain": [
       "id\n",
       "id22483    0\n",
       "id18809    0\n",
       "id16322    0\n",
       "id13423    0\n",
       "id09553    0\n",
       "          ..\n",
       "id22356    2\n",
       "id11504    2\n",
       "id00149    2\n",
       "id16796    2\n",
       "id23776    2\n",
       "Name: author, Length: 16905, dtype: int64"
      ]
     },
     "execution_count": 8,
     "metadata": {},
     "output_type": "execute_result"
    }
   ],
   "source": [
    "#Crating map for targets\n",
    "target_map = {'EAP':0,\n",
    "             'HPL':1,\n",
    "             'MWS':2}\n",
    "y = df['author'].map(target_map)\n",
    "y"
   ]
  },
  {
   "cell_type": "code",
   "execution_count": 9,
   "id": "7c6bdd5e-c81a-4ed6-8760-f23f3791cd9e",
   "metadata": {},
   "outputs": [
    {
     "data": {
      "text/plain": [
       "array(['He then asked me, suddenly, if I had observed any thing peculiar at the scene of the atrocity.',\n",
       "       'Through the exertions of Beauvais, the matter was industriously hushed up, as far as possible; and several days had elapsed before any public emotion resulted.',\n",
       "       'The cold was intense, and obliged me to wrap up closely in an overcoat.',\n",
       "       ...,\n",
       "       'What I ask of you is reasonable and moderate; I demand a creature of another sex, but as hideous as myself; the gratification is small, but it is all that I can receive, and it shall content me.',\n",
       "       'The birth of her daughter, embryo copy of her Raymond, filled up the measure of her content, and produced a sacred and indissoluble tie between them.',\n",
       "       \"I heard my sister's sobs, and thought, happy are women who can weep, and in a passionate caress disburthen the oppression of their feelings; shame and habitual restraint hold back a man.\"],\n",
       "      dtype=object)"
      ]
     },
     "execution_count": 9,
     "metadata": {},
     "output_type": "execute_result"
    }
   ],
   "source": [
    "# X and y\n",
    "X = df['text'].values\n",
    "X"
   ]
  },
  {
   "cell_type": "code",
   "execution_count": 10,
   "id": "39bc53c3-1654-4686-8166-f132972a6394",
   "metadata": {},
   "outputs": [
    {
     "data": {
      "text/plain": [
       "array([0, 1, 2], dtype=int64)"
      ]
     },
     "execution_count": 10,
     "metadata": {},
     "output_type": "execute_result"
    }
   ],
   "source": [
    "classes = y.unique()\n",
    "classes"
   ]
  },
  {
   "cell_type": "code",
   "execution_count": 11,
   "id": "7ab6456e-7cb7-4252-b3ec-b960ee44b652",
   "metadata": {},
   "outputs": [],
   "source": [
    "# Convert to Dataset Object\n",
    "ds = tf.data.Dataset.from_tensor_slices((X, y))\n",
    "\n",
    "# Shuffle dataset\n",
    "ds = ds.shuffle(buffer_size=len(ds),reshuffle_each_iteration=False) "
   ]
  },
  {
   "cell_type": "code",
   "execution_count": 12,
   "id": "4ca0469c-5dba-4758-b509-5c491f844bee",
   "metadata": {},
   "outputs": [
    {
     "name": "stdout",
     "output_type": "stream",
     "text": [
      "    - train:\t11833 samples \t(370 batches)\n",
      "    - val:  \t3381 samples \t(106 batches)\n",
      "    - test: \t1691 samples \t(53 batches)\n"
     ]
    }
   ],
   "source": [
    "# Set the ratio of the train, validation, test split\n",
    "split_train = .7\n",
    "split_val =  .2\n",
    "split_test =  1 -( split_train + split_val )\n",
    "\n",
    "# Calculate the number of samples for training and validation data \n",
    "n_train_samples =  int(len(ds) * split_train)\n",
    "n_val_samples = int(len(ds) * split_val)\n",
    "n_test_samples = len(ds) -(n_train_samples + n_val_samples)\n",
    "\n",
    "# Set the batch size\n",
    "BATCH_SIZE =32\n",
    "\n",
    "\n",
    "import math\n",
    "# math.ceil will round up\n",
    "# How many batches? \n",
    "n_train_batches = math.ceil(n_train_samples/BATCH_SIZE)\n",
    "n_val_batches = math.ceil(n_val_samples/BATCH_SIZE)\n",
    "n_test_batches = math.ceil(n_test_samples/BATCH_SIZE)\n",
    "\n",
    "print(f\"    - train:\\t{n_train_samples} samples \\t({n_train_batches} batches)\")\n",
    "print(f\"    - val:  \\t{n_val_samples} samples \\t({n_val_batches} batches)\")\n",
    "print(f\"    - test: \\t{n_test_samples} samples \\t({n_test_batches} batches)\")"
   ]
  },
  {
   "cell_type": "code",
   "execution_count": 13,
   "id": "a4624175-d676-4fbb-be77-40c8d759175f",
   "metadata": {},
   "outputs": [],
   "source": [
    "# Use take and skip to define each set\n",
    "train_ds = ds.take(n_train_samples).batch(batch_size=BATCH_SIZE)\n",
    "\n",
    "# Skip over the training batches and take the validation batches\n",
    "val_ds = ds.skip(n_train_samples).take(n_val_samples).batch(batch_size=BATCH_SIZE)\n",
    "\n",
    "# Skipver the train and validation batches, the remaining are the test batches\n",
    "test_ds = ds.skip(n_train_samples + n_val_samples).batch(batch_size=BATCH_SIZE)"
   ]
  },
  {
   "cell_type": "code",
   "execution_count": 14,
   "id": "4d56d8ce-a8ff-429b-8b70-39e7608c5e2e",
   "metadata": {},
   "outputs": [
    {
     "name": "stdout",
     "output_type": "stream",
     "text": [
      " There are 370 training batches.\n",
      " There are 106 validation batches.\n",
      " There are 53 testing batches.\n"
     ]
    }
   ],
   "source": [
    "# Confirm the number of batches in each\n",
    "print (f' There are {len(train_ds)} training batches.')\n",
    "print (f' There are {len(val_ds)} validation batches.')\n",
    "print (f' There are {len(test_ds)} testing batches.')"
   ]
  },
  {
   "cell_type": "code",
   "execution_count": 15,
   "id": "8482f787-27db-40b9-87e9-2e193588241b",
   "metadata": {},
   "outputs": [],
   "source": [
    "SEQUENCE_LENGTH = 100\n",
    "# Create text Vectorization layer\n",
    "sequence_vectorizer = tf.keras.layers.TextVectorization(standardize=\"lower_and_strip_punctuation\",\n",
    "                                                        output_mode=\"int\",\n",
    "                                                        output_sequence_length=SEQUENCE_LENGTH)"
   ]
  },
  {
   "cell_type": "code",
   "execution_count": 16,
   "id": "5b83d6b6-0ac2-4341-91b0-0ee07f360de9",
   "metadata": {},
   "outputs": [
    {
     "data": {
      "text/plain": [
       "<tf.Tensor: shape=(32,), dtype=string, numpy=\n",
       "array([b'Too well did I recall the squat church from which those notes came.',\n",
       "       b'Old Waldron, who had curtailed his activities before, would have made him take a rest an impossible thing now that he was so close to great results in his equations.',\n",
       "       b'Mr. Hoadley disappeared soon after delivering this sermon; but the text, printed in Springfield, is still extant.',\n",
       "       b'They must be up to something.',\n",
       "       b\"Madame L'Espanaye and her daughter, habited in their night clothes, had apparently been occupied in arranging some papers in the iron chest already mentioned, which had been wheeled into the middle of the room.\",\n",
       "       b\"But there is something excessively unphilosophical in the attempt on the part of Le Moniteur, to rebut the general assertion of L'Etoile, by a citation of particular instances militating against that assertion.\",\n",
       "       b'But again why need this impediment have been produced?',\n",
       "       b'Moreover, this knot is one which few besides sailors can tie, and is peculiar to the Maltese.',\n",
       "       b'The patient, Mr. Edward Stapleton, had died, apparently of typhus fever, accompanied with some anomalous symptoms which had excited the curiosity of his medical attendants.',\n",
       "       b'He was just dizzy and careless enough to annoy his sensitive horse, which as he drew it viciously up at the tomb neighed and pawed and tossed its head, much as on that former occasion when the rain had vexed it.',\n",
       "       b'I seem to have suffered a great shock perhaps from some utterly monstrous outgrowth of my cycles of unique, incredible experience.',\n",
       "       b'Those figures are so silent and furtive that one feels somehow confronted by forbidden things, with which it would be better to have nothing to do.',\n",
       "       b'We had, as in my own former explorations, left the door to the street unlocked; so that a direct and practical path of escape might lie open in case of manifestations beyond our power to deal with.',\n",
       "       b'The star shaped flowers shrank into the stems of the trees, and appeared no more.',\n",
       "       b'It was a black cat a very large one fully as large as Pluto, and closely resembling him in every respect but one.',\n",
       "       b'By way of punishing me for this imprudence, she concocted with Talbot a plot.',\n",
       "       b\"Every preparation likely to embarrass us, having been made over night, we commenced the inflation this morning at daybreak; but owing to a thick fog, which encumbered the folds of the silk and rendered it unmanageable, we did not get through before nearly eleven o'clock.\",\n",
       "       b'The things we saw were very old and marvellous, or at least they seemed so in the few straggling rays of light by which I viewed them, and I shall never forget the tottering Ionic columns and fluted pilasters and urn headed iron fence posts and flaring lintelled windows and decorative fanlights that appeared to grow quainter and stranger the deeper we advanced into this inexhaustible maze of unknown antiquity.',\n",
       "       b'The air had begun to be exceedingly unwholesome; but to this detail he paid no attention as he toiled, half by feeling, at the heavy and corroded metal of the latch.',\n",
       "       b'Sometimes one feels that it would be merciful to tear down these houses, for they must often dream.',\n",
       "       b'You, Sir, are the first outsider to be told there is a secret, and split me if I\\'d have risked tampering that much with the powers had ye not been so hot after bygone things.\"',\n",
       "       b'But in every change goodness and affection can find field for exertion and display.',\n",
       "       b'Following Washington Street toward the river, I now faced a new zone of former industry and commerce; noting the ruins of a factory ahead, and seeing others, with the traces of an old railway station and covered railway bridge beyond, up the gorge on my right.',\n",
       "       b'A change fell upon all things.',\n",
       "       b'He had also changed my apartment; for he perceived that I had acquired a dislike for the room which had previously been my laboratory.',\n",
       "       b'I resolved to be guided by the paternal advice.',\n",
       "       b'There was so much intelligence combined with innocence, sensibility with forbearance, and seriousness with perfect good humour, a beauty so transcendant, united to such endearing simplicity, that she hung like a pearl in the shrine of our possessions, a treasure of wonder and excellence.',\n",
       "       b'Who can describe their horror and consternation on beholding me?',\n",
       "       b'But neither ship nor land appeared, and I began to despair in my solitude upon the heaving vastnesses of unbroken blue.',\n",
       "       b'After I saw that he was no longer in the boat I threw the searchlight around the water in an effort to obtain a last glimpse of him; since I wished to ascertain whether the water pressure would flatten him as it theoretically should, or whether the body would be unaffected, like those extraordinary dolphins.',\n",
       "       b'And if these were my sensations, who can describe those of Henry?',\n",
       "       b'Yours everlastingly, PUNDITA.'], dtype=object)>"
      ]
     },
     "execution_count": 16,
     "metadata": {},
     "output_type": "execute_result"
    }
   ],
   "source": [
    "# Get just the text from ds_train\n",
    "ds_texts = train_ds.map(lambda x, y: x)\n",
    "\n",
    "# Preview the text\n",
    "ds_texts.take(1).get_single_element()"
   ]
  },
  {
   "cell_type": "code",
   "execution_count": 17,
   "id": "c7f66bb4-affc-473b-ba92-e5e451fda909",
   "metadata": {},
   "outputs": [
    {
     "data": {
      "text/plain": [
       "20978"
      ]
     },
     "execution_count": 17,
     "metadata": {},
     "output_type": "execute_result"
    }
   ],
   "source": [
    "# Train (adapt on training text data))\n",
    "sequence_vectorizer.adapt(ds_texts)\n",
    "sequence_vectorizer.vocabulary_size()"
   ]
  },
  {
   "cell_type": "code",
   "execution_count": 18,
   "id": "626a564d-9759-4300-96a1-367121ffe607",
   "metadata": {},
   "outputs": [],
   "source": [
    "def build_lstm_model(text_vectorization_layer):\n",
    "    VOCAB_SIZE = sequence_vectorizer.vocabulary_size()\n",
    "    SEQUENCE_LENGTH = sequence_vectorizer.get_config()['output_sequence_length']\n",
    "    EMBED_DIM = 150\n",
    "    \n",
    "    # Define sequential model with pre-trained vectorization layer and *new* embedding layer\n",
    "    lstm_model = Sequential([\n",
    "        text_vectorization_layer,\n",
    "        layers.Embedding(input_dim=VOCAB_SIZE,\n",
    "                                  output_dim=EMBED_DIM, \n",
    "                                  input_length=SEQUENCE_LENGTH)\n",
    "        ])\n",
    "        \n",
    "    # Add *new* LSTM layer\n",
    "    lstm_model.add(layers.LSTM(128))\n",
    "    # Add output layer\n",
    "    lstm_model.add(layers.Dense(len(classes), activation='softmax'))\n",
    " \n",
    "    # Compile the model\n",
    "    lstm_model.compile(optimizer=optimizers.legacy.Adam(learning_rate = .01), \n",
    "                  loss='sparse_categorical_crossentropy', \n",
    "                  metrics=['accuracy'])\n",
    "    \n",
    "    lstm_model.summary()\n",
    "    return lstm_model"
   ]
  },
  {
   "cell_type": "code",
   "execution_count": 19,
   "id": "aab69523-041e-413d-9855-297bee0ca614",
   "metadata": {},
   "outputs": [],
   "source": [
    "def get_callbacks(patience=3, monitor='val_accuracy'):\n",
    "    early_stop = tf.keras.callbacks.EarlyStopping(patience=patience, monitor=monitor)\n",
    "    return [early_stop]"
   ]
  },
  {
   "cell_type": "code",
   "execution_count": 20,
   "id": "d53ad177-e2a8-42c7-a9c3-b067bdcac12c",
   "metadata": {},
   "outputs": [
    {
     "name": "stdout",
     "output_type": "stream",
     "text": [
      "Model: \"sequential\"\n",
      "_________________________________________________________________\n",
      " Layer (type)                Output Shape              Param #   \n",
      "=================================================================\n",
      " text_vectorization (TextVec  (None, 100)              0         \n",
      " torization)                                                     \n",
      "                                                                 \n",
      " embedding (Embedding)       (None, 100, 150)          3146700   \n",
      "                                                                 \n",
      " lstm (LSTM)                 (None, 128)               142848    \n",
      "                                                                 \n",
      " dense (Dense)               (None, 3)                 387       \n",
      "                                                                 \n",
      "=================================================================\n",
      "Total params: 3,289,935\n",
      "Trainable params: 3,289,935\n",
      "Non-trainable params: 0\n",
      "_________________________________________________________________\n",
      "Epoch 1/30\n",
      "370/370 [==============================] - 24s 62ms/step - loss: 1.1015 - accuracy: 0.3245 - val_loss: 1.0991 - val_accuracy: 0.3245\n",
      "Epoch 2/30\n",
      "370/370 [==============================] - 23s 61ms/step - loss: 1.1006 - accuracy: 0.3258 - val_loss: 1.1034 - val_accuracy: 0.3233\n",
      "Epoch 3/30\n",
      "370/370 [==============================] - 23s 63ms/step - loss: 1.0989 - accuracy: 0.3311 - val_loss: 1.1001 - val_accuracy: 0.3251\n",
      "Epoch 4/30\n",
      "370/370 [==============================] - 23s 63ms/step - loss: 1.1000 - accuracy: 0.3292 - val_loss: 1.1056 - val_accuracy: 0.3236\n",
      "Epoch 5/30\n",
      "370/370 [==============================] - 23s 63ms/step - loss: 1.0323 - accuracy: 0.4451 - val_loss: 0.9921 - val_accuracy: 0.4925\n",
      "Epoch 6/30\n",
      "370/370 [==============================] - 23s 63ms/step - loss: 0.8878 - accuracy: 0.5615 - val_loss: 0.9430 - val_accuracy: 0.5389\n",
      "Epoch 7/30\n",
      "370/370 [==============================] - 24s 64ms/step - loss: 0.8432 - accuracy: 0.5840 - val_loss: 0.9656 - val_accuracy: 0.5250\n",
      "Epoch 8/30\n",
      "370/370 [==============================] - 24s 64ms/step - loss: 0.7838 - accuracy: 0.6174 - val_loss: 0.9955 - val_accuracy: 0.5389\n",
      "Epoch 9/30\n",
      "370/370 [==============================] - 24s 64ms/step - loss: 0.7784 - accuracy: 0.6267 - val_loss: 0.9770 - val_accuracy: 0.5555\n",
      "Epoch 10/30\n",
      "370/370 [==============================] - 24s 64ms/step - loss: 0.7529 - accuracy: 0.6469 - val_loss: 0.9471 - val_accuracy: 0.5673\n",
      "Epoch 11/30\n",
      "370/370 [==============================] - 24s 64ms/step - loss: 0.7218 - accuracy: 0.6675 - val_loss: 0.9178 - val_accuracy: 0.5812\n",
      "Epoch 12/30\n",
      "370/370 [==============================] - 24s 64ms/step - loss: 0.6745 - accuracy: 0.7014 - val_loss: 0.9600 - val_accuracy: 0.5895\n",
      "Epoch 13/30\n",
      "370/370 [==============================] - 23s 63ms/step - loss: 0.6367 - accuracy: 0.7266 - val_loss: 0.9311 - val_accuracy: 0.5960\n",
      "Epoch 14/30\n",
      "370/370 [==============================] - 24s 64ms/step - loss: 0.6012 - accuracy: 0.7503 - val_loss: 0.9205 - val_accuracy: 0.6013\n",
      "Epoch 15/30\n",
      "370/370 [==============================] - 24s 64ms/step - loss: 0.5559 - accuracy: 0.7721 - val_loss: 0.9420 - val_accuracy: 0.6190\n",
      "Epoch 16/30\n",
      "370/370 [==============================] - 24s 64ms/step - loss: 0.5111 - accuracy: 0.7974 - val_loss: 0.9699 - val_accuracy: 0.6250\n",
      "Epoch 17/30\n",
      "370/370 [==============================] - 24s 64ms/step - loss: 0.4684 - accuracy: 0.8146 - val_loss: 0.9870 - val_accuracy: 0.6267\n",
      "Epoch 18/30\n",
      "370/370 [==============================] - 24s 64ms/step - loss: 0.4450 - accuracy: 0.8277 - val_loss: 1.0252 - val_accuracy: 0.6276\n",
      "Epoch 19/30\n",
      "370/370 [==============================] - 24s 64ms/step - loss: 0.4276 - accuracy: 0.8337 - val_loss: 1.0129 - val_accuracy: 0.6264\n",
      "Epoch 20/30\n",
      "370/370 [==============================] - 23s 63ms/step - loss: 0.3926 - accuracy: 0.8511 - val_loss: 1.0959 - val_accuracy: 0.6235\n",
      "Epoch 21/30\n",
      "370/370 [==============================] - 23s 63ms/step - loss: 0.3863 - accuracy: 0.8529 - val_loss: 1.1160 - val_accuracy: 0.6327\n",
      "Epoch 22/30\n",
      "370/370 [==============================] - 23s 63ms/step - loss: 0.3592 - accuracy: 0.8639 - val_loss: 1.0752 - val_accuracy: 0.6377\n",
      "Epoch 23/30\n",
      "370/370 [==============================] - 23s 63ms/step - loss: 0.3321 - accuracy: 0.8775 - val_loss: 1.1396 - val_accuracy: 0.6353\n",
      "Epoch 24/30\n",
      "370/370 [==============================] - 23s 63ms/step - loss: 0.3177 - accuracy: 0.8837 - val_loss: 1.0625 - val_accuracy: 0.6374\n",
      "Epoch 25/30\n",
      "370/370 [==============================] - 23s 63ms/step - loss: 0.3077 - accuracy: 0.8852 - val_loss: 1.0679 - val_accuracy: 0.6474\n",
      "Epoch 26/30\n",
      "370/370 [==============================] - 23s 63ms/step - loss: 0.2921 - accuracy: 0.8924 - val_loss: 1.0249 - val_accuracy: 0.6584\n",
      "Epoch 27/30\n",
      "370/370 [==============================] - 23s 63ms/step - loss: 0.2741 - accuracy: 0.9026 - val_loss: 1.0917 - val_accuracy: 0.6569\n",
      "Epoch 28/30\n",
      "370/370 [==============================] - 23s 63ms/step - loss: 0.2836 - accuracy: 0.8965 - val_loss: 1.0645 - val_accuracy: 0.6362\n",
      "Epoch 29/30\n",
      "370/370 [==============================] - 23s 63ms/step - loss: 0.2553 - accuracy: 0.9096 - val_loss: 1.1009 - val_accuracy: 0.6457\n"
     ]
    },
    {
     "data": {
      "image/png": "[encoded data removed]",
      "text/plain": [
       "<Figure size 600x600 with 2 Axes>"
      ]
     },
     "metadata": {},
     "output_type": "display_data"
    },
    {
     "name": "stdout",
     "output_type": "stream",
     "text": [
      "\n",
      "================================================================================\n",
      "- Evaluating Network...\n",
      "================================================================================\n"
     ]
    },
    {
     "ename": "NameError",
     "evalue": "name 'classification_report' is not defined",
     "output_type": "error",
     "traceback": [
      "\u001b[1;31m---------------------------------------------------------------------------\u001b[0m",
      "\u001b[1;31mNameError\u001b[0m                                 Traceback (most recent call last)",
      "Cell \u001b[1;32mIn[20], line 13\u001b[0m\n\u001b[0;32m      6\u001b[0m history \u001b[38;5;241m=\u001b[39m lstm_model\u001b[38;5;241m.\u001b[39mfit(\n\u001b[0;32m      7\u001b[0m     train_ds,\n\u001b[0;32m      8\u001b[0m     epochs\u001b[38;5;241m=\u001b[39mEPOCHS,\n\u001b[0;32m      9\u001b[0m     validation_data\u001b[38;5;241m=\u001b[39mval_ds,\n\u001b[0;32m     10\u001b[0m     callbacks\u001b[38;5;241m=\u001b[39mget_callbacks(),\n\u001b[0;32m     11\u001b[0m )\n\u001b[0;32m     12\u001b[0m \u001b[38;5;66;03m# Obtain the results\u001b[39;00m\n\u001b[1;32m---> 13\u001b[0m results \u001b[38;5;241m=\u001b[39m \u001b[43mevaluate_classification_network\u001b[49m\u001b[43m(\u001b[49m\n\u001b[0;32m     14\u001b[0m \u001b[43m    \u001b[49m\u001b[43mlstm_model\u001b[49m\u001b[43m,\u001b[49m\u001b[43m \u001b[49m\u001b[43mX_train\u001b[49m\u001b[38;5;241;43m=\u001b[39;49m\u001b[43mtrain_ds\u001b[49m\u001b[43m,\u001b[49m\u001b[43m \u001b[49m\n\u001b[0;32m     15\u001b[0m \u001b[43m    \u001b[49m\u001b[43mX_test\u001b[49m\u001b[38;5;241;43m=\u001b[39;49m\u001b[43mtest_ds\u001b[49m\u001b[43m,\u001b[49m\u001b[43m \u001b[49m\u001b[43mhistory\u001b[49m\u001b[38;5;241;43m=\u001b[39;49m\u001b[43mhistory\u001b[49m\n\u001b[0;32m     16\u001b[0m \u001b[43m)\u001b[49m\n",
      "Cell \u001b[1;32mIn[2], line 91\u001b[0m, in \u001b[0;36mevaluate_classification_network\u001b[1;34m(model, X_train, y_train, X_test, y_test, history, history_figsize, figsize, normalize, output_dict, cmap_train, cmap_test, values_format, colorbar)\u001b[0m\n\u001b[0;32m     88\u001b[0m y_train_pred \u001b[38;5;241m=\u001b[39m convert_y_to_sklearn_classes(y_train_pred)\n\u001b[0;32m     90\u001b[0m \u001b[38;5;66;03m# Call the helper function to obtain regression metrics for training data\u001b[39;00m\n\u001b[1;32m---> 91\u001b[0m results_train \u001b[38;5;241m=\u001b[39m \u001b[43mclassification_metrics\u001b[49m\u001b[43m(\u001b[49m\u001b[43my_train\u001b[49m\u001b[43m,\u001b[49m\u001b[43m \u001b[49m\u001b[43my_train_pred\u001b[49m\u001b[43m,\u001b[49m\u001b[43m \u001b[49m\n\u001b[0;32m     92\u001b[0m \u001b[43m                                 \u001b[49m\u001b[43moutput_dict\u001b[49m\u001b[38;5;241;43m=\u001b[39;49m\u001b[38;5;28;43;01mTrue\u001b[39;49;00m\u001b[43m,\u001b[49m\u001b[43m \u001b[49m\u001b[43mfigsize\u001b[49m\u001b[38;5;241;43m=\u001b[39;49m\u001b[43mfigsize\u001b[49m\u001b[43m,\u001b[49m\n\u001b[0;32m     93\u001b[0m \u001b[43m                                     \u001b[49m\u001b[43mcolorbar\u001b[49m\u001b[38;5;241;43m=\u001b[39;49m\u001b[43mcolorbar\u001b[49m\u001b[43m,\u001b[49m\u001b[43m \u001b[49m\u001b[43mcmap\u001b[49m\u001b[38;5;241;43m=\u001b[39;49m\u001b[43mcmap_train\u001b[49m\u001b[43m,\u001b[49m\n\u001b[0;32m     94\u001b[0m \u001b[43m                                       \u001b[49m\u001b[43mvalues_format\u001b[49m\u001b[38;5;241;43m=\u001b[39;49m\u001b[43mvalues_format\u001b[49m\u001b[43m,\u001b[49m\n\u001b[0;32m     95\u001b[0m \u001b[43m                                 \u001b[49m\u001b[43mlabel\u001b[49m\u001b[38;5;241;43m=\u001b[39;49m\u001b[38;5;124;43m'\u001b[39;49m\u001b[38;5;124;43mTraining Data\u001b[39;49m\u001b[38;5;124;43m'\u001b[39;49m\u001b[43m)\u001b[49m\n\u001b[0;32m     97\u001b[0m \u001b[38;5;66;03m## Run model.evaluate         \u001b[39;00m\n\u001b[0;32m     98\u001b[0m \u001b[38;5;28mprint\u001b[39m(\u001b[38;5;124m\"\u001b[39m\u001b[38;5;130;01m\\n\u001b[39;00m\u001b[38;5;124m- Evaluating Training Data:\u001b[39m\u001b[38;5;124m\"\u001b[39m)\n",
      "Cell \u001b[1;32mIn[2], line 11\u001b[0m, in \u001b[0;36mclassification_metrics\u001b[1;34m(y_true, y_pred, label, output_dict, figsize, normalize, cmap, colorbar, values_format)\u001b[0m\n\u001b[0;32m      5\u001b[0m \u001b[38;5;250m\u001b[39m\u001b[38;5;124;03m\"\"\"Modified version of classification metrics function from Intro to Machine Learning.\u001b[39;00m\n\u001b[0;32m      6\u001b[0m \u001b[38;5;124;03mUpdates:\u001b[39;00m\n\u001b[0;32m      7\u001b[0m \u001b[38;5;124;03m- Reversed raw counts confusion matrix cmap  (so darker==more).\u001b[39;00m\n\u001b[0;32m      8\u001b[0m \u001b[38;5;124;03m- Added arg for normalized confusion matrix values_format\u001b[39;00m\n\u001b[0;32m      9\u001b[0m \u001b[38;5;124;03m\"\"\"\u001b[39;00m\n\u001b[0;32m     10\u001b[0m \u001b[38;5;66;03m# Get the classification report\u001b[39;00m\n\u001b[1;32m---> 11\u001b[0m report \u001b[38;5;241m=\u001b[39m \u001b[43mclassification_report\u001b[49m(y_true, y_pred)\n\u001b[0;32m     13\u001b[0m \u001b[38;5;66;03m## Print header and report\u001b[39;00m\n\u001b[0;32m     14\u001b[0m header \u001b[38;5;241m=\u001b[39m \u001b[38;5;124m\"\u001b[39m\u001b[38;5;124m-\u001b[39m\u001b[38;5;124m\"\u001b[39m\u001b[38;5;241m*\u001b[39m\u001b[38;5;241m70\u001b[39m\n",
      "\u001b[1;31mNameError\u001b[0m: name 'classification_report' is not defined"
     ]
    }
   ],
   "source": [
    "# Build the lstm model and specify the vectorizer\n",
    "lstm_model = build_lstm_model(sequence_vectorizer)\n",
    "# Defien number of epocs\n",
    "EPOCHS = 30\n",
    "# Fit the model\n",
    "history = lstm_model.fit(\n",
    "    train_ds,\n",
    "    epochs=EPOCHS,\n",
    "    validation_data=val_ds,\n",
    "    callbacks=get_callbacks(),\n",
    ")\n",
    "# Obtain the results\n",
    "results = evaluate_classification_network(\n",
    "    lstm_model, X_train=train_ds, \n",
    "    X_test=test_ds, history=history\n",
    ");"
   ]
  },
  {
   "cell_type": "code",
   "execution_count": null,
   "id": "08ef6e78-023e-4e6e-b03a-ac2e83d3a204",
   "metadata": {},
   "outputs": [],
   "source": [
    "def build_gru_model(text_vectorization_layer):\n",
    "                \n",
    "    gru_model = Sequential([\n",
    "        text_vectorization_layer,\n",
    "        tf.keras.layers.Embedding(input_dim=VOCAB_SIZE, \n",
    "                                  output_dim=EMBED_DIM, \n",
    "                                  input_length=SEQUENCE_LENGTH)])\n",
    "    # Add GRU layer *new*\n",
    "    gru_model.add(layers.GRU(128, return_sequences = True))   \n",
    "    gru_model.add(layers.GlobalMaxPooling1D())\n",
    "    # Output layer\n",
    "    gru_model.add(layers.Dense(len(classes), \n",
    "                              activation='softmax'))\n",
    "        \n",
    "    optimizer = optimizers.legacy.Adam()\n",
    "    gru_model.compile(optimizer=optimizer,  \n",
    "                  loss='sparse_categorical_crossentropy', metrics=['accuracy'])\n",
    "    gru_model.summary()\n",
    "    return gru_model"
   ]
  },
  {
   "cell_type": "code",
   "execution_count": null,
   "id": "f7fc673f-6db0-45e7-bd75-7ee06aa13726",
   "metadata": {},
   "outputs": [],
   "source": [
    "def build_gru_model(text_vectorization_layer):\n",
    "    VOCAB_SIZE = sequence_vectorizer.vocabulary_size()\n",
    "    SEQUENCE_LENGTH = sequence_vectorizer.get_config()['output_sequence_length']\n",
    "    EMBED_DIM = 150\n",
    "    \n",
    "    # Define sequential model with pre-trained vectorization layer and *new* embedding layer\n",
    "    gru_model = Sequential([\n",
    "        text_vectorization_layer,\n",
    "        layers.Embedding(input_dim=VOCAB_SIZE,\n",
    "                                  output_dim=EMBED_DIM, \n",
    "                                  input_length=SEQUENCE_LENGTH)\n",
    "        ])\n",
    "        \n",
    "    # Add *new* LSTM layer\n",
    "    gru_model.add(layers.GRU(128, return_sequences = True))   \n",
    "    # Add output layer\n",
    "    gru_model.add(layers.Dense(len(classes), activation='softmax'))\n",
    " \n",
    "    # Compile the model\n",
    "    gru_model.compile(optimizer=optimizers.legacy.Adam(learning_rate = .01), \n",
    "                  loss='sparse_categorical_crossentropy', \n",
    "                  metrics=['accuracy'])\n",
    "    \n",
    "    gru_model.summary()\n",
    "    return lstm_model"
   ]
  },
  {
   "cell_type": "code",
   "execution_count": null,
   "id": "3e3497ac-2fb4-4e4e-bbe7-8049043b14a9",
   "metadata": {},
   "outputs": [],
   "source": [
    "# Build the model\n",
    "model = build_gru_model(sequence_vectorizer)\n",
    "# Fit the model\n",
    "EPOCHS = 30\n",
    "history = model.fit(\n",
    "    train_ds,\n",
    "    epochs=EPOCHS,\n",
    "    validation_data=val_ds,\n",
    "    callbacks=get_callbacks(),\n",
    ")\n",
    "# Evaluate the model\n",
    "results = evaluate_classification_network(\n",
    "    model, X_train=train_ds, \n",
    "    X_test=test_ds, history=history);"
   ]
  },
  {
   "cell_type": "code",
   "execution_count": null,
   "id": "4620b308-fa89-46b5-9b28-bd689208f494",
   "metadata": {},
   "outputs": [],
   "source": []
  }
 ],
 "metadata": {
  "kernelspec": {
   "display_name": "Python (dojo-env)",
   "language": "python",
   "name": "dojo-env"
  },
  "language_info": {
   "codemirror_mode": {
    "name": "ipython",
    "version": 3
   },
   "file_extension": ".py",
   "mimetype": "text/x-python",
   "name": "python",
   "nbconvert_exporter": "python",
   "pygments_lexer": "ipython3",
   "version": "3.10.10"
  }
 },
 "nbformat": 4,
 "nbformat_minor": 5
}
